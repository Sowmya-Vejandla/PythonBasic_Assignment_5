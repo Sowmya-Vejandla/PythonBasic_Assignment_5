{
 "cells": [
  {
   "cell_type": "code",
   "execution_count": 1,
   "id": "05e3f6cb",
   "metadata": {},
   "outputs": [
    {
     "data": {
      "text/plain": [
       "dict"
      ]
     },
     "execution_count": 1,
     "metadata": {},
     "output_type": "execute_result"
    }
   ],
   "source": [
    "#1. What does an empty dictionary's code look like?\n",
    "\n",
    "\"Empty dictionary is represented with curly braces {}\"\n",
    "\n",
    "d={}\n",
    "type(d)"
   ]
  },
  {
   "cell_type": "code",
   "execution_count": 3,
   "id": "8c5089ed",
   "metadata": {},
   "outputs": [
    {
     "name": "stdout",
     "output_type": "stream",
     "text": [
      "42\n"
     ]
    }
   ],
   "source": [
    "#2. What is the value of a dictionary value with the key 'foo' and the value 42?\n",
    "\n",
    "d={'foo':42}\n",
    "value=d['foo'] # to call value of the 'foo we can call it like this'\n",
    "print(value)\n"
   ]
  },
  {
   "cell_type": "raw",
   "id": "0d58507a",
   "metadata": {},
   "source": [
    "3. What is the most significant distinction between a dictionary and a list?\n",
    "\n",
    "The most significant distinction between a dictionary and a list are:\n",
    "\n",
    "(i)Syntax\n",
    "(ii)Elements access\n",
    " lists are accessed by index, while dictionaries are collection of key-value pairs, accessed by keys."
   ]
  },
  {
   "cell_type": "raw",
   "id": "31f24502",
   "metadata": {},
   "source": [
    "4. What happens if you try to access spam['foo'] if spam is {'bar': 100}?\n",
    "\n",
    "Key Error going to be raised when you access a dictionary using a key that does not available in the dictionary"
   ]
  },
  {
   "cell_type": "raw",
   "id": "92e3cd2e",
   "metadata": {},
   "source": [
    "5. If a dictionary is stored in spam, what is the difference between the expressions 'cat' in spam and 'cat' in spam.keys()?\n",
    "\n",
    "\n",
    "The expression 'cat' in spam checks if the 'cat' is a key in the dictionary spam. If 'cat' is a key, it evaluates to True; otherwise, it evaluates to False. This expression checks for the presence of the key directly in the dictionary.\n",
    "\n",
    "\n",
    "Whereas the 'cat' in spam.keys() checks if 'cat' is a key in the dictionary spam. But, it uses the keys() method to obtain a view of all the keys in the dictionary and then checks if 'cat' is in that view. It evaluates to True if 'cat' is a key and False otherwise.\n"
   ]
  },
  {
   "cell_type": "raw",
   "id": "3a6409cc",
   "metadata": {},
   "source": [
    "6. If a dictionary is stored in spam, what is the difference between the expressions 'cat' in spam and 'cat' in spam.keys()?\n",
    "\n",
    "\n",
    "The expression 'cat' in spam checks if the 'cat' is a key in the dictionary spam. If 'cat' is a key, it evaluates to True; otherwise, it evaluates to False. This expression checks for the presence of the key directly in the dictionary.\n",
    "\n",
    "\n",
    "Whereas the 'cat' in spam.keys() checks if 'cat' is a key in the dictionary spam. But, it uses the keys() method to obtain a view of all the keys in the dictionary and then checks if 'cat' is in that view. It evaluates to True if 'cat' is a key and False otherwise.\n"
   ]
  },
  {
   "cell_type": "code",
   "execution_count": 2,
   "id": "77521e90",
   "metadata": {},
   "outputs": [
    {
     "data": {
      "text/plain": [
       "'black'"
      ]
     },
     "execution_count": 2,
     "metadata": {},
     "output_type": "execute_result"
    }
   ],
   "source": [
    "#7. What is a shortcut for the following code? if 'color' not in spam: spam['color'] = 'black'\n",
    "spam={}\n",
    "spam.setdefault('color','black')\n",
    "\n",
    "\n",
    "\n"
   ]
  },
  {
   "cell_type": "raw",
   "id": "6f2c1e41",
   "metadata": {},
   "source": [
    "8. How do you \"pretty print\" dictionary values using which module and function?\n",
    "\n",
    "The function to use is pprint from the pprint module.\n",
    "    \n"
   ]
  }
 ],
 "metadata": {
  "kernelspec": {
   "display_name": "Python 3 (ipykernel)",
   "language": "python",
   "name": "python3"
  },
  "language_info": {
   "codemirror_mode": {
    "name": "ipython",
    "version": 3
   },
   "file_extension": ".py",
   "mimetype": "text/x-python",
   "name": "python",
   "nbconvert_exporter": "python",
   "pygments_lexer": "ipython3",
   "version": "3.11.3"
  }
 },
 "nbformat": 4,
 "nbformat_minor": 5
}
